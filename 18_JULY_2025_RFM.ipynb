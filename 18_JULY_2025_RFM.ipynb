{
 "cells": [
  {
   "cell_type": "markdown",
   "id": "2d1e3041-30de-465e-8a33-66e5972a2568",
   "metadata": {},
   "source": [
    "# Project: Employee Engagement Segmentation using RFM Analysis"
   ]
  },
  {
   "cell_type": "code",
   "execution_count": 2,
   "id": "2ed2db37-0382-4ffc-8937-82337bf756d5",
   "metadata": {},
   "outputs": [],
   "source": [
    "# importing basic libraries\n",
    "import os\n",
    "import numpy as np\n",
    "import pandas as pd\n",
    "import matplotlib.pyplot as plt\n",
    "import seaborn as sns\n",
    "%matplotlib inline\n",
    "sns.set()\n",
    "import warnings\n",
    "warnings.filterwarnings('ignore')"
   ]
  },
  {
   "cell_type": "raw",
   "id": "9ce70c37-e853-4cce-a42c-673a9eb64f06",
   "metadata": {},
   "source": [
    "import matplotlib\n",
    "print(matplotlib.get_backend())  # Current backend\n",
    "\n",
    "matplotlib.use('Agg')  # Set backend (do this before importing pyplot)\n",
    "\n",
    "import matplotlib.pyplot as plt\n",
    "plt.plot([1, 2, 3])\n",
    "plt.savefig(\"output.png\")\n"
   ]
  },
  {
   "cell_type": "code",
   "execution_count": 3,
   "id": "fa5be3af-f513-425a-b376-440f7a2de8c0",
   "metadata": {},
   "outputs": [
    {
     "name": "stdout",
     "output_type": "stream",
     "text": [
      "Package                           Version\n",
      "--------------------------------- ------------------\n",
      "aiobotocore                       2.12.3\n",
      "aiohappyeyeballs                  2.4.0\n",
      "aiohttp                           3.10.5\n",
      "aioitertools                      0.7.1\n",
      "aiosignal                         1.2.0\n",
      "alabaster                         0.7.16\n",
      "alembic                           1.16.4\n",
      "altair                            5.0.1\n",
      "altair-data-server                0.4.1\n",
      "altair-viewer                     0.4.0\n",
      "anaconda-anon-usage               0.4.4\n",
      "anaconda-catalogs                 0.2.0\n",
      "anaconda-client                   1.12.3\n",
      "anaconda-cloud-auth               0.5.1\n",
      "anaconda-navigator                2.6.3\n",
      "anaconda-project                  0.11.1\n",
      "annotated-types                   0.6.0\n",
      "anyio                             4.2.0\n",
      "appdirs                           1.4.4\n",
      "archspec                          0.2.3\n",
      "argon2-cffi                       21.3.0\n",
      "argon2-cffi-bindings              21.2.0\n",
      "arrow                             1.2.3\n",
      "astroid                           2.14.2\n",
      "astropy                           6.1.3\n",
      "astropy-iers-data                 0.2024.9.2.0.33.23\n",
      "asttokens                         2.0.5\n",
      "async-lru                         2.0.4\n",
      "atomicwrites                      1.4.0\n",
      "attrs                             23.1.0\n",
      "Automat                           20.2.0\n",
      "autopep8                          2.0.4\n",
      "Babel                             2.11.0\n",
      "bcrypt                            3.2.0\n",
      "beautifulsoup4                    4.12.3\n",
      "binaryornot                       0.4.4\n",
      "black                             24.8.0\n",
      "bleach                            4.1.0\n",
      "blinker                           1.6.2\n",
      "bokeh                             3.6.0\n",
      "boltons                           23.0.0\n",
      "botocore                          1.34.69\n",
      "Bottleneck                        1.3.7\n",
      "branca                            0.8.1\n",
      "Brotli                            1.0.9\n",
      "cachetools                        5.3.3\n",
      "catboost                          1.2.8\n",
      "category_encoders                 2.8.1\n",
      "certifi                           2025.6.15\n",
      "cffi                              1.17.1\n",
      "chardet                           4.0.0\n",
      "charset-normalizer                3.3.2\n",
      "choreographer                     1.0.9\n",
      "click                             8.1.7\n",
      "cloudpickle                       3.0.0\n",
      "colorama                          0.4.6\n",
      "colorcet                          3.1.0\n",
      "colorlog                          6.9.0\n",
      "comm                              0.2.1\n",
      "conda                             24.11.3\n",
      "conda-build                       24.9.0\n",
      "conda-content-trust               0.2.0\n",
      "conda_index                       0.5.0\n",
      "conda-libmamba-solver             24.9.0\n",
      "conda-pack                        0.7.1\n",
      "conda-package-handling            2.3.0\n",
      "conda_package_streaming           0.10.0\n",
      "conda-repo-cli                    1.0.114\n",
      "conda-token                       0.5.0+1.g2209e04\n",
      "constantly                        23.10.4\n",
      "contourpy                         1.2.0\n",
      "cookiecutter                      2.6.0\n",
      "cryptography                      43.0.0\n",
      "cssselect                         1.2.0\n",
      "cycler                            0.11.0\n",
      "Cython                            3.1.2\n",
      "cytoolz                           0.12.2\n",
      "dacite                            1.9.2\n",
      "dask                              2024.8.2\n",
      "dask-expr                         1.1.13\n",
      "datashader                        0.16.3\n",
      "debugpy                           1.6.7\n",
      "decorator                         5.1.1\n",
      "defusedxml                        0.7.1\n",
      "deprecation                       2.1.0\n",
      "diff-match-patch                  20200713\n",
      "dill                              0.3.8\n",
      "distributed                       2024.8.2\n",
      "distro                            1.9.0\n",
      "docstring-to-markdown             0.11\n",
      "docutils                          0.18.1\n",
      "et-xmlfile                        1.1.0\n",
      "executing                         0.8.3\n",
      "explai                            0.6\n",
      "fastjsonschema                    2.16.2\n",
      "filelock                          3.13.1\n",
      "flake8                            7.0.0\n",
      "Flask                             3.0.3\n",
      "folium                            0.19.6\n",
      "fonttools                         4.51.0\n",
      "fqdn                              1.5.1\n",
      "frozendict                        2.4.2\n",
      "frozenlist                        1.4.0\n",
      "fsspec                            2024.6.1\n",
      "gensim                            4.3.3\n",
      "gitdb                             4.0.7\n",
      "GitPython                         3.1.43\n",
      "graphviz                          0.21\n",
      "greenlet                          3.0.1\n",
      "h11                               0.14.0\n",
      "h5py                              3.11.0\n",
      "HeapDict                          1.0.1\n",
      "holoviews                         1.19.1\n",
      "htmlmin                           0.1.12\n",
      "httpcore                          1.0.2\n",
      "httpx                             0.27.0\n",
      "hvplot                            0.11.0\n",
      "hyperlink                         21.0.0\n",
      "idna                              3.7\n",
      "imagecodecs                       2023.1.23\n",
      "ImageHash                         4.3.1\n",
      "imageio                           2.33.1\n",
      "imagesize                         1.4.1\n",
      "imbalanced-learn                  0.12.3\n",
      "importlib-metadata                7.0.1\n",
      "importlib_resources               6.5.2\n",
      "incremental                       22.10.0\n",
      "inflection                        0.5.1\n",
      "iniconfig                         1.1.1\n",
      "intake                            2.0.7\n",
      "intervaltree                      3.1.0\n",
      "ipykernel                         6.29.5\n",
      "ipython                           8.27.0\n",
      "ipython-genutils                  0.2.0\n",
      "ipywidgets                        7.8.1\n",
      "isoduration                       20.11.0\n",
      "isort                             5.13.2\n",
      "itemadapter                       0.3.0\n",
      "itemloaders                       1.1.0\n",
      "itsdangerous                      2.2.0\n",
      "jaraco.classes                    3.2.1\n",
      "jedi                              0.19.1\n",
      "jellyfish                         1.0.1\n",
      "Jinja2                            3.1.4\n",
      "jmespath                          1.0.1\n",
      "joblib                            1.3.2\n",
      "json5                             0.9.6\n",
      "jsonpatch                         1.33\n",
      "jsonpointer                       2.1\n",
      "jsonschema                        4.23.0\n",
      "jsonschema-specifications         2023.7.1\n",
      "jupyter                           1.0.0\n",
      "jupyter_client                    8.6.0\n",
      "jupyter-console                   6.6.3\n",
      "jupyter_core                      5.7.2\n",
      "jupyter-events                    0.10.0\n",
      "jupyter-lsp                       2.2.0\n",
      "jupyter_server                    2.14.1\n",
      "jupyter_server_terminals          0.4.4\n",
      "jupyterlab                        4.2.5\n",
      "jupyterlab-pygments               0.1.2\n",
      "jupyterlab_server                 2.27.3\n",
      "jupyterlab-widgets                1.0.0\n",
      "keyring                           24.3.1\n",
      "kiwisolver                        1.4.4\n",
      "klib                              1.3.2\n",
      "lazy_loader                       0.4\n",
      "lazy-object-proxy                 1.10.0\n",
      "lckr_jupyterlab_variableinspector 3.1.0\n",
      "libarchive-c                      5.1\n",
      "libmambapy                        1.5.8\n",
      "lightgbm                          4.6.0\n",
      "linkify-it-py                     2.0.0\n",
      "llvmlite                          0.43.0\n",
      "lmdb                              1.4.1\n",
      "locket                            1.0.0\n",
      "logistro                          1.1.0\n",
      "lxml                              5.2.1\n",
      "lz4                               4.3.2\n",
      "Mako                              1.3.10\n",
      "Markdown                          3.4.1\n",
      "markdown-it-py                    2.2.0\n",
      "MarkupSafe                        2.1.3\n",
      "matplotlib                        3.7.3\n",
      "matplotlib-inline                 0.1.6\n",
      "mccabe                            0.7.0\n",
      "mdit-py-plugins                   0.3.0\n",
      "mdurl                             0.1.0\n",
      "menuinst                          2.1.2\n",
      "missingno                         0.5.2\n",
      "mistune                           2.0.4\n",
      "mkl_fft                           1.3.10\n",
      "mkl_random                        1.2.7\n",
      "mkl-service                       2.4.0\n",
      "mlxtend                           0.23.4\n",
      "more-itertools                    10.3.0\n",
      "mpmath                            1.3.0\n",
      "msgpack                           1.0.3\n",
      "multidict                         6.0.4\n",
      "multimethod                       1.12\n",
      "multipledispatch                  0.6.0\n",
      "mypy                              1.11.2\n",
      "mypy-extensions                   1.0.0\n",
      "navigator-updater                 0.5.1\n",
      "nbclient                          0.8.0\n",
      "nbconvert                         7.16.4\n",
      "nbformat                          5.10.4\n",
      "nest-asyncio                      1.6.0\n",
      "networkx                          3.3\n",
      "nltk                              3.9.1\n",
      "notebook                          7.2.2\n",
      "notebook_shim                     0.2.3\n",
      "numba                             0.60.0\n",
      "numexpr                           2.8.7\n",
      "numpy                             1.26.4\n",
      "numpydoc                          1.7.0\n",
      "openpyxl                          3.1.5\n",
      "optuna                            4.4.0\n",
      "orjson                            3.10.18\n",
      "overrides                         7.4.0\n",
      "packaging                         24.1\n",
      "pandas                            2.1.4\n",
      "pandas-stubs                      2.2.3.250527\n",
      "pandocfilters                     1.5.0\n",
      "panel                             1.5.2\n",
      "param                             2.1.1\n",
      "paramiko                          2.8.1\n",
      "parsel                            1.8.1\n",
      "parso                             0.8.3\n",
      "partd                             1.4.1\n",
      "pathspec                          0.10.3\n",
      "patsy                             0.5.6\n",
      "pexpect                           4.8.0\n",
      "phik                              0.12.4\n",
      "pickleshare                       0.7.5\n",
      "pillow                            10.4.0\n",
      "pip                               24.2\n",
      "pkce                              1.0.3\n",
      "pkginfo                           1.10.0\n",
      "platformdirs                      3.10.0\n",
      "plotly                            5.24.1\n",
      "pluggy                            1.0.0\n",
      "ply                               3.11\n",
      "polars                            1.31.0\n",
      "portpicker                        1.6.0\n",
      "prometheus-client                 0.14.1\n",
      "prompt-toolkit                    3.0.43\n",
      "Protego                           0.1.16\n",
      "protobuf                          4.25.3\n",
      "psutil                            5.9.0\n",
      "ptyprocess                        0.7.0\n",
      "pure-eval                         0.2.2\n",
      "puremagic                         1.29\n",
      "py-cpuinfo                        9.0.0\n",
      "pyarrow                           20.0.0\n",
      "pyasn1                            0.4.8\n",
      "pyasn1-modules                    0.2.8\n",
      "pycodestyle                       2.11.1\n",
      "pycosat                           0.6.6\n",
      "pycparser                         2.21\n",
      "pyct                              0.5.0\n",
      "pycurl                            7.45.3\n",
      "pydantic                          2.8.2\n",
      "pydantic_core                     2.20.1\n",
      "pydeck                            0.8.0\n",
      "PyDispatcher                      2.0.5\n",
      "pydocstyle                        6.3.0\n",
      "pyerfa                            2.0.1.4\n",
      "pyflakes                          3.2.0\n",
      "Pygments                          2.19.2\n",
      "PyJWT                             2.8.0\n",
      "pylint                            2.16.2\n",
      "pylint-venv                       3.0.3\n",
      "pyls-spyder                       0.4.0\n",
      "PyNaCl                            1.5.0\n",
      "pyodbc                            5.1.0\n",
      "pyOpenSSL                         24.2.1\n",
      "pyparsing                         3.1.2\n",
      "PyQt5                             5.15.10\n",
      "PyQt5-sip                         12.13.0\n",
      "PyQtWebEngine                     5.15.6\n",
      "PySocks                           1.7.1\n",
      "pytest                            7.4.4\n",
      "python-dateutil                   2.9.0.post0\n",
      "python-dotenv                     0.21.0\n",
      "python-json-logger                2.0.7\n",
      "python-lsp-black                  2.0.0\n",
      "python-lsp-jsonrpc                1.1.2\n",
      "python-lsp-server                 1.10.0\n",
      "python-slugify                    5.0.2\n",
      "pytoolconfig                      1.2.6\n",
      "pytz                              2024.1\n",
      "pyviz_comms                       3.0.2\n",
      "PyWavelets                        1.7.0\n",
      "pywin32                           305.1\n",
      "pywin32-ctypes                    0.2.2\n",
      "pywinpty                          2.0.10\n",
      "PyYAML                            6.0.1\n",
      "pyzmq                             25.1.2\n",
      "QDarkStyle                        3.2.3\n",
      "qstylizer                         0.2.2\n",
      "QtAwesome                         1.3.1\n",
      "qtconsole                         5.5.1\n",
      "QtPy                              2.4.1\n",
      "queuelib                          1.6.2\n",
      "referencing                       0.30.2\n",
      "regex                             2024.9.11\n",
      "reportlab                         4.4.2\n",
      "requests                          2.32.3\n",
      "requests-file                     1.5.1\n",
      "requests-toolbelt                 1.0.0\n",
      "retrying                          1.4.0\n",
      "rfc3339-validator                 0.1.4\n",
      "rfc3986-validator                 0.1.1\n",
      "rich                              14.0.0\n",
      "rope                              1.12.0\n",
      "rpds-py                           0.10.6\n",
      "Rtree                             1.0.1\n",
      "ruamel.yaml                       0.18.6\n",
      "ruamel.yaml.clib                  0.2.8\n",
      "ruamel-yaml-conda                 0.17.21\n",
      "s3fs                              2024.6.1\n",
      "schemdraw                         0.15\n",
      "scikit-base                       0.7.8\n",
      "scikit-image                      0.24.0\n",
      "scikit-learn                      1.4.2\n",
      "scipy                             1.11.4\n",
      "Scrapy                            2.11.1\n",
      "screeninfo                        0.8.1\n",
      "seaborn                           0.13.2\n",
      "semver                            3.0.2\n",
      "Send2Trash                        1.8.2\n",
      "service-identity                  18.1.0\n",
      "setuptools                        75.1.0\n",
      "shap                              0.48.0\n",
      "sidetable                         0.9.1\n",
      "simplejson                        3.20.1\n",
      "sip                               6.7.12\n",
      "six                               1.16.0\n",
      "skimpy                            0.0.18\n",
      "slicer                            0.0.8\n",
      "smart-open                        5.2.1\n",
      "smmap                             4.0.0\n",
      "sniffio                           1.3.0\n",
      "snowballstemmer                   2.2.0\n",
      "sortedcontainers                  2.4.0\n",
      "soupsieve                         2.5\n",
      "Sphinx                            7.3.7\n",
      "sphinxcontrib-applehelp           1.0.2\n",
      "sphinxcontrib-devhelp             1.0.2\n",
      "sphinxcontrib-htmlhelp            2.0.0\n",
      "sphinxcontrib-jsmath              1.0.1\n",
      "sphinxcontrib-qthelp              1.0.3\n",
      "sphinxcontrib-serializinghtml     1.1.10\n",
      "spyder                            5.5.1\n",
      "spyder-kernels                    2.5.0\n",
      "SQLAlchemy                        2.0.34\n",
      "stack-data                        0.2.0\n",
      "statsmodels                       0.14.2\n",
      "streamlit                         1.37.1\n",
      "sweetviz                          2.3.1\n",
      "sympy                             1.13.2\n",
      "tables                            3.10.1\n",
      "tabulate                          0.9.0\n",
      "tblib                             1.7.0\n",
      "tenacity                          8.2.3\n",
      "terminado                         0.17.1\n",
      "text-unidecode                    1.3\n",
      "textdistance                      4.2.1\n",
      "threadpoolctl                     3.5.0\n",
      "three-merge                       0.1.1\n",
      "tifffile                          2023.4.12\n",
      "tinycss2                          1.2.1\n",
      "tldextract                        5.1.2\n",
      "toml                              0.10.2\n",
      "tomli                             2.0.1\n",
      "tomlkit                           0.11.1\n",
      "toolz                             0.12.0\n",
      "tornado                           6.4.1\n",
      "tqdm                              4.66.5\n",
      "traitlets                         5.14.3\n",
      "truststore                        0.8.0\n",
      "tsdownsample                      0.1.4.1\n",
      "Twisted                           23.10.0\n",
      "twisted-iocpsupport               1.0.2\n",
      "typeguard                         4.4.4\n",
      "types-pytz                        2025.2.0.20250516\n",
      "typing_extensions                 4.14.0\n",
      "tzdata                            2023.3\n",
      "uc-micro-py                       1.0.1\n",
      "ujson                             5.10.0\n",
      "unicodedata2                      15.1.0\n",
      "Unidecode                         1.3.8\n",
      "uri-template                      1.3.0\n",
      "urllib3                           2.2.3\n",
      "visions                           0.8.1\n",
      "w3lib                             2.1.2\n",
      "watchdog                          4.0.1\n",
      "wcwidth                           0.2.5\n",
      "webcolors                         24.11.1\n",
      "webencodings                      0.5.1\n",
      "websocket-client                  1.8.0\n",
      "Werkzeug                          3.0.3\n",
      "whatthepatch                      1.0.2\n",
      "wheel                             0.44.0\n",
      "widgetsnbextension                3.6.6\n",
      "win-inet-pton                     1.1.0\n",
      "wordcloud                         1.9.4\n",
      "wrapt                             1.14.1\n",
      "xarray                            2023.6.0\n",
      "xgboost                           3.0.2\n",
      "xlwings                           0.32.1\n",
      "xxhash                            3.5.0\n",
      "xyzservices                       2022.9.0\n",
      "yapf                              0.40.2\n",
      "yarl                              1.11.0\n",
      "ydata-profiling                   4.16.1\n",
      "yellowbrick                       1.5\n",
      "zict                              3.0.0\n",
      "zipp                              3.17.0\n",
      "zope.interface                    5.4.0\n",
      "zstandard                         0.23.0\n"
     ]
    },
    {
     "name": "stderr",
     "output_type": "stream",
     "text": [
      "WARNING: Ignoring invalid distribution ~atplotlib (C:\\Users\\hp\\anaconda3\\Lib\\site-packages)\n"
     ]
    }
   ],
   "source": [
    "!pip list"
   ]
  },
  {
   "cell_type": "raw",
   "id": "d84a2e0e-d43d-4115-ada6-05dc293ae1b5",
   "metadata": {},
   "source": [
    "pip install matplotlib==3.7.3"
   ]
  },
  {
   "cell_type": "raw",
   "id": "768c8938-4217-40fa-a5fd-33aeaece980f",
   "metadata": {},
   "source": [
    "!pip install matplotlib==3.7.3"
   ]
  },
  {
   "cell_type": "code",
   "execution_count": 4,
   "id": "c438af72-06b0-447d-8617-59868b763c5f",
   "metadata": {},
   "outputs": [
    {
     "name": "stdout",
     "output_type": "stream",
     "text": [
      "3.7.3\n"
     ]
    }
   ],
   "source": [
    "import matplotlib\n",
    "print(matplotlib.__version__)  # should print 3.7.3"
   ]
  },
  {
   "cell_type": "code",
   "execution_count": 5,
   "id": "132f9dd2-56eb-4cfb-a832-9170357fa4e8",
   "metadata": {},
   "outputs": [
    {
     "data": {
      "text/html": [
       "<div>\n",
       "<style scoped>\n",
       "    .dataframe tbody tr th:only-of-type {\n",
       "        vertical-align: middle;\n",
       "    }\n",
       "\n",
       "    .dataframe tbody tr th {\n",
       "        vertical-align: top;\n",
       "    }\n",
       "\n",
       "    .dataframe thead th {\n",
       "        text-align: right;\n",
       "    }\n",
       "</style>\n",
       "<table border=\"1\" class=\"dataframe\">\n",
       "  <thead>\n",
       "    <tr style=\"text-align: right;\">\n",
       "      <th></th>\n",
       "      <th>EmployeeID</th>\n",
       "      <th>Name</th>\n",
       "      <th>Gender</th>\n",
       "      <th>DateOfBirth</th>\n",
       "      <th>JoinDate</th>\n",
       "      <th>LastEngagementDate</th>\n",
       "      <th>Department</th>\n",
       "      <th>JobTitle</th>\n",
       "      <th>Country</th>\n",
       "      <th>EngagementCount</th>\n",
       "      <th>TotalEngagementMinutes</th>\n",
       "      <th>TrainingSessions</th>\n",
       "      <th>EngagementActivities</th>\n",
       "      <th>HealthIssue</th>\n",
       "      <th>SickLeaves</th>\n",
       "      <th>Salary</th>\n",
       "      <th>PerformanceRating</th>\n",
       "    </tr>\n",
       "  </thead>\n",
       "  <tbody>\n",
       "    <tr>\n",
       "      <th>0</th>\n",
       "      <td>E0001</td>\n",
       "      <td>Allison Hill</td>\n",
       "      <td>Non-binary</td>\n",
       "      <td>1979-09-24</td>\n",
       "      <td>2017-11-30</td>\n",
       "      <td>2024-03-06</td>\n",
       "      <td>Data Science</td>\n",
       "      <td>Data Analyst</td>\n",
       "      <td>Australia</td>\n",
       "      <td>5</td>\n",
       "      <td>235</td>\n",
       "      <td>2.0</td>\n",
       "      <td>Training</td>\n",
       "      <td>Diabetes</td>\n",
       "      <td>2</td>\n",
       "      <td>157835.39</td>\n",
       "      <td>4.2</td>\n",
       "    </tr>\n",
       "    <tr>\n",
       "      <th>1</th>\n",
       "      <td>E0002</td>\n",
       "      <td>Patrick Gardner</td>\n",
       "      <td>Non-binary</td>\n",
       "      <td>1993-04-02</td>\n",
       "      <td>2016-01-30</td>\n",
       "      <td>2016-08-02</td>\n",
       "      <td>Data Science</td>\n",
       "      <td>DevOps Engineer</td>\n",
       "      <td>Germany</td>\n",
       "      <td>4</td>\n",
       "      <td>128</td>\n",
       "      <td>3.0</td>\n",
       "      <td>Hackathon</td>\n",
       "      <td>Diabetes</td>\n",
       "      <td>1</td>\n",
       "      <td>77225.74</td>\n",
       "      <td>4.0</td>\n",
       "    </tr>\n",
       "  </tbody>\n",
       "</table>\n",
       "</div>"
      ],
      "text/plain": [
       "  EmployeeID             Name      Gender DateOfBirth    JoinDate  \\\n",
       "0      E0001     Allison Hill  Non-binary  1979-09-24  2017-11-30   \n",
       "1      E0002  Patrick Gardner  Non-binary  1993-04-02  2016-01-30   \n",
       "\n",
       "  LastEngagementDate    Department         JobTitle    Country  \\\n",
       "0         2024-03-06  Data Science     Data Analyst  Australia   \n",
       "1         2016-08-02  Data Science  DevOps Engineer    Germany   \n",
       "\n",
       "   EngagementCount  TotalEngagementMinutes  TrainingSessions  \\\n",
       "0                5                     235               2.0   \n",
       "1                4                     128               3.0   \n",
       "\n",
       "  EngagementActivities HealthIssue  SickLeaves     Salary  PerformanceRating  \n",
       "0             Training    Diabetes           2  157835.39                4.2  \n",
       "1            Hackathon    Diabetes           1   77225.74                4.0  "
      ]
     },
     "execution_count": 5,
     "metadata": {},
     "output_type": "execute_result"
    }
   ],
   "source": [
    "df = pd.read_csv('employee_engagement_rfm_dataset.csv')\n",
    "df.head(2)"
   ]
  },
  {
   "cell_type": "code",
   "execution_count": 6,
   "id": "62ac2458-9fce-47af-a238-53fd72b4019b",
   "metadata": {},
   "outputs": [
    {
     "data": {
      "text/plain": [
       "(520, 17)"
      ]
     },
     "execution_count": 6,
     "metadata": {},
     "output_type": "execute_result"
    }
   ],
   "source": [
    "df.shape"
   ]
  },
  {
   "cell_type": "code",
   "execution_count": 7,
   "id": "33091621-5404-4bb5-96e2-8f6bc9c5e5c8",
   "metadata": {},
   "outputs": [
    {
     "name": "stdout",
     "output_type": "stream",
     "text": [
      "<class 'pandas.core.frame.DataFrame'>\n",
      "RangeIndex: 520 entries, 0 to 519\n",
      "Data columns (total 17 columns):\n",
      " #   Column                  Non-Null Count  Dtype  \n",
      "---  ------                  --------------  -----  \n",
      " 0   EmployeeID              520 non-null    object \n",
      " 1   Name                    520 non-null    object \n",
      " 2   Gender                  520 non-null    object \n",
      " 3   DateOfBirth             520 non-null    object \n",
      " 4   JoinDate                520 non-null    object \n",
      " 5   LastEngagementDate      520 non-null    object \n",
      " 6   Department              520 non-null    object \n",
      " 7   JobTitle                520 non-null    object \n",
      " 8   Country                 520 non-null    object \n",
      " 9   EngagementCount         520 non-null    int64  \n",
      " 10  TotalEngagementMinutes  520 non-null    int64  \n",
      " 11  TrainingSessions        494 non-null    float64\n",
      " 12  EngagementActivities    494 non-null    object \n",
      " 13  HealthIssue             389 non-null    object \n",
      " 14  SickLeaves              520 non-null    int64  \n",
      " 15  Salary                  520 non-null    float64\n",
      " 16  PerformanceRating       494 non-null    float64\n",
      "dtypes: float64(3), int64(3), object(11)\n",
      "memory usage: 69.2+ KB\n"
     ]
    }
   ],
   "source": [
    "df.info()"
   ]
  },
  {
   "cell_type": "code",
   "execution_count": 8,
   "id": "406ba4ab-8f0a-4a25-8dc6-7e2f9359a815",
   "metadata": {},
   "outputs": [
    {
     "data": {
      "text/plain": [
       "0      False\n",
       "1      False\n",
       "2      False\n",
       "3      False\n",
       "4      False\n",
       "       ...  \n",
       "515     True\n",
       "516     True\n",
       "517     True\n",
       "518     True\n",
       "519     True\n",
       "Length: 520, dtype: bool"
      ]
     },
     "execution_count": 8,
     "metadata": {},
     "output_type": "execute_result"
    }
   ],
   "source": [
    "df.duplicated()"
   ]
  },
  {
   "cell_type": "code",
   "execution_count": 9,
   "id": "0564290d-d2c6-41a9-ab1d-1eaf3042ef1f",
   "metadata": {},
   "outputs": [
    {
     "data": {
      "text/plain": [
       "17"
      ]
     },
     "execution_count": 9,
     "metadata": {},
     "output_type": "execute_result"
    }
   ],
   "source": [
    "df.duplicated().sum()"
   ]
  },
  {
   "cell_type": "code",
   "execution_count": 10,
   "id": "0979affe-2ce0-4771-97c7-7111db66a0f5",
   "metadata": {},
   "outputs": [],
   "source": [
    "df.drop_duplicates(inplace=True)"
   ]
  },
  {
   "cell_type": "code",
   "execution_count": 11,
   "id": "10eabc09-7932-4273-ad83-639e7b1601d8",
   "metadata": {},
   "outputs": [
    {
     "data": {
      "text/plain": [
       "EmployeeID                  0\n",
       "Name                        0\n",
       "Gender                      0\n",
       "DateOfBirth                 0\n",
       "JoinDate                    0\n",
       "LastEngagementDate          0\n",
       "Department                  0\n",
       "JobTitle                    0\n",
       "Country                     0\n",
       "EngagementCount             0\n",
       "TotalEngagementMinutes      0\n",
       "TrainingSessions           26\n",
       "EngagementActivities       26\n",
       "HealthIssue               125\n",
       "SickLeaves                  0\n",
       "Salary                      0\n",
       "PerformanceRating          26\n",
       "dtype: int64"
      ]
     },
     "execution_count": 11,
     "metadata": {},
     "output_type": "execute_result"
    }
   ],
   "source": [
    "df.isnull().sum()"
   ]
  },
  {
   "cell_type": "code",
   "execution_count": 12,
   "id": "e51f41bb-460a-4044-9dde-66173eda5e44",
   "metadata": {},
   "outputs": [
    {
     "data": {
      "text/plain": [
       "\"you don’t need to clean the columns that are not used in RFM analysis.\\nBut it's good practice to: Drop irrelevant columns before or after RFM calculation\""
      ]
     },
     "execution_count": 12,
     "metadata": {},
     "output_type": "execute_result"
    }
   ],
   "source": [
    "'''you don’t need to clean the columns that are not used in RFM analysis.\n",
    "But it's good practice to: Drop irrelevant columns before or after RFM calculation'''"
   ]
  },
  {
   "cell_type": "code",
   "execution_count": 13,
   "id": "9c830d03-4c86-4351-bf50-4ffcd50194b5",
   "metadata": {},
   "outputs": [
    {
     "data": {
      "text/plain": [
       "'Metric\\tSource Column\\nRecency\\t    LastEngagementDate\\nFrequency\\tEngagementCount\\nMonetary\\tTotalEngagementMinutes or Salary\\n\\nEmployeeID, Name, Gender, DateOfBirth, JoinDate, Country, HealthIssue, SickLeaves, JobTitle — not\\ndirectly related to Recency/Frequency/Monetary metrics\\n\\n'"
      ]
     },
     "execution_count": 13,
     "metadata": {},
     "output_type": "execute_result"
    }
   ],
   "source": [
    "'''Metric\tSource Column\n",
    "Recency\t    LastEngagementDate\n",
    "Frequency\tEngagementCount\n",
    "Monetary\tTotalEngagementMinutes or Salary\n",
    "\n",
    "EmployeeID, Name, Gender, DateOfBirth, JoinDate, Country, HealthIssue, SickLeaves, JobTitle — not\n",
    "directly related to Recency/Frequency/Monetary metrics\n",
    "\n",
    "'''"
   ]
  },
  {
   "cell_type": "code",
   "execution_count": 14,
   "id": "fe484ef4-01dc-4dc3-aff9-88f0fa59df16",
   "metadata": {},
   "outputs": [],
   "source": [
    "rfm_df = df[['EmployeeID', 'LastEngagementDate', 'EngagementCount', 'TotalEngagementMinutes']].copy()"
   ]
  },
  {
   "cell_type": "code",
   "execution_count": 15,
   "id": "06abff84-b310-48c5-9390-ddc337a6e868",
   "metadata": {},
   "outputs": [
    {
     "data": {
      "text/html": [
       "<div>\n",
       "<style scoped>\n",
       "    .dataframe tbody tr th:only-of-type {\n",
       "        vertical-align: middle;\n",
       "    }\n",
       "\n",
       "    .dataframe tbody tr th {\n",
       "        vertical-align: top;\n",
       "    }\n",
       "\n",
       "    .dataframe thead th {\n",
       "        text-align: right;\n",
       "    }\n",
       "</style>\n",
       "<table border=\"1\" class=\"dataframe\">\n",
       "  <thead>\n",
       "    <tr style=\"text-align: right;\">\n",
       "      <th></th>\n",
       "      <th>EmployeeID</th>\n",
       "      <th>LastEngagementDate</th>\n",
       "      <th>EngagementCount</th>\n",
       "      <th>TotalEngagementMinutes</th>\n",
       "    </tr>\n",
       "  </thead>\n",
       "  <tbody>\n",
       "    <tr>\n",
       "      <th>0</th>\n",
       "      <td>E0001</td>\n",
       "      <td>2024-03-06</td>\n",
       "      <td>5</td>\n",
       "      <td>235</td>\n",
       "    </tr>\n",
       "    <tr>\n",
       "      <th>1</th>\n",
       "      <td>E0002</td>\n",
       "      <td>2016-08-02</td>\n",
       "      <td>4</td>\n",
       "      <td>128</td>\n",
       "    </tr>\n",
       "  </tbody>\n",
       "</table>\n",
       "</div>"
      ],
      "text/plain": [
       "  EmployeeID LastEngagementDate  EngagementCount  TotalEngagementMinutes\n",
       "0      E0001         2024-03-06                5                     235\n",
       "1      E0002         2016-08-02                4                     128"
      ]
     },
     "execution_count": 15,
     "metadata": {},
     "output_type": "execute_result"
    }
   ],
   "source": [
    "rfm_df.head(2)"
   ]
  },
  {
   "cell_type": "code",
   "execution_count": 16,
   "id": "d80eb15e-8ee0-4cb3-bd53-037fb01127f2",
   "metadata": {},
   "outputs": [
    {
     "data": {
      "text/plain": [
       "(503, 4)"
      ]
     },
     "execution_count": 16,
     "metadata": {},
     "output_type": "execute_result"
    }
   ],
   "source": [
    "rfm_df.shape"
   ]
  },
  {
   "cell_type": "code",
   "execution_count": 17,
   "id": "2d0542e5-3590-403a-844c-a311979706b6",
   "metadata": {},
   "outputs": [
    {
     "data": {
      "text/plain": [
       "<Axes: >"
      ]
     },
     "execution_count": 17,
     "metadata": {},
     "output_type": "execute_result"
    },
    {
     "data": {
      "image/png": "[encoded data removed]",
      "text/plain": [
       "<Figure size 640x480 with 1 Axes>"
      ]
     },
     "metadata": {},
     "output_type": "display_data"
    }
   ],
   "source": [
    "sns.boxplot(data = rfm_df[['EngagementCount', 'TotalEngagementMinutes']])"
   ]
  },
  {
   "cell_type": "code",
   "execution_count": 18,
   "id": "8abb2d22-d875-490a-aca1-be28d5b9c0dd",
   "metadata": {},
   "outputs": [],
   "source": [
    "col=['EngagementCount', 'TotalEngagementMinutes']\n",
    "\n",
    "for i in col:\n",
    "    Q1 = df[i].quantile(0.25)\n",
    "    Q3 = df[i].quantile(0.75)\n",
    "    IQR = Q3 - Q1\n",
    "    lower = Q1 - 1.5 * IQR\n",
    "    upper = Q3 + 1.5 * IQR\n",
    "    rfm_df = rfm_df[(rfm_df[i] >= lower) & (rfm_df[i] <= upper)]"
   ]
  },
  {
   "cell_type": "code",
   "execution_count": 19,
   "id": "63772d80-50dc-43b1-8c54-178d409c539b",
   "metadata": {},
   "outputs": [
    {
     "data": {
      "text/plain": [
       "<Axes: >"
      ]
     },
     "execution_count": 19,
     "metadata": {},
     "output_type": "execute_result"
    },
    {
     "data": {
      "image/png": "[encoded data removed]",
      "text/plain": [
       "<Figure size 640x480 with 1 Axes>"
      ]
     },
     "metadata": {},
     "output_type": "display_data"
    }
   ],
   "source": [
    "sns.boxplot(data = rfm_df[['EngagementCount', 'TotalEngagementMinutes']])"
   ]
  },
  {
   "cell_type": "code",
   "execution_count": 20,
   "id": "fc045421-7256-4d0a-8e24-1f1ee6a3b858",
   "metadata": {},
   "outputs": [],
   "source": [
    "rfm_df['LastEngagementDate'] = pd.to_datetime(rfm_df['LastEngagementDate'])"
   ]
  },
  {
   "cell_type": "code",
   "execution_count": 21,
   "id": "4080b6d9-9e5c-4e95-9e87-c5449904fcfd",
   "metadata": {},
   "outputs": [
    {
     "data": {
      "text/plain": [
       "0   2024-03-06\n",
       "1   2016-08-02\n",
       "Name: LastEngagementDate, dtype: datetime64[ns]"
      ]
     },
     "execution_count": 21,
     "metadata": {},
     "output_type": "execute_result"
    }
   ],
   "source": [
    "rfm_df['LastEngagementDate'].head(2)"
   ]
  },
  {
   "cell_type": "code",
   "execution_count": 22,
   "id": "ed96a6d4-7a41-4511-9647-185754b66b45",
   "metadata": {},
   "outputs": [
    {
     "data": {
      "text/plain": [
       "EmployeeID\n",
       "E0250    12\n",
       "E0056    10\n",
       "E0091    10\n",
       "E0296    10\n",
       "E0105    10\n",
       "         ..\n",
       "E0198     1\n",
       "E0380     0\n",
       "E0267     0\n",
       "E0124     0\n",
       "E0162     0\n",
       "Name: EngagementCount, Length: 487, dtype: int64"
      ]
     },
     "execution_count": 22,
     "metadata": {},
     "output_type": "execute_result"
    }
   ],
   "source": [
    "rfm_df.groupby('EmployeeID')['EngagementCount'].sum().sort_values(ascending=False)"
   ]
  },
  {
   "cell_type": "code",
   "execution_count": 23,
   "id": "00647953-c7cc-4d53-a492-1f30fb9ded2b",
   "metadata": {},
   "outputs": [
    {
     "data": {
      "text/plain": [
       "<Axes: title={'center': 'Top 10 Engaged Employees'}, ylabel='EmployeeID'>"
      ]
     },
     "execution_count": 23,
     "metadata": {},
     "output_type": "execute_result"
    },
    {
     "data": {
      "image/png": "[encoded data removed]",
      "text/plain": [
       "<Figure size 800x500 with 1 Axes>"
      ]
     },
     "metadata": {},
     "output_type": "display_data"
    }
   ],
   "source": [
    "emp_counts = rfm_df.groupby('EmployeeID')['EngagementCount'].sum().sort_values(ascending=False)\n",
    "emp_counts.head(5).plot(kind='barh', figsize=(8, 5), title='Top 10 Engaged Employees')"
   ]
  },
  {
   "cell_type": "code",
   "execution_count": 24,
   "id": "c3c94b3c-e107-4408-bfe0-8fe669944f01",
   "metadata": {},
   "outputs": [
    {
     "data": {
      "text/plain": [
       "EmployeeID\n",
       "E0067    2\n",
       "E0250    2\n",
       "E0091    2\n",
       "E0331    1\n",
       "E0344    1\n",
       "        ..\n",
       "E0164    1\n",
       "E0163    1\n",
       "E0162    1\n",
       "E0161    1\n",
       "E0500    1\n",
       "Name: count, Length: 487, dtype: int64"
      ]
     },
     "execution_count": 24,
     "metadata": {},
     "output_type": "execute_result"
    }
   ],
   "source": [
    "rfm_df['EmployeeID'].value_counts()"
   ]
  },
  {
   "cell_type": "code",
   "execution_count": 25,
   "id": "605b9fda-f892-487d-a82d-9f25dd6e809f",
   "metadata": {},
   "outputs": [
    {
     "data": {
      "text/plain": [
       "487"
      ]
     },
     "execution_count": 25,
     "metadata": {},
     "output_type": "execute_result"
    }
   ],
   "source": [
    "rfm_df['EmployeeID'].nunique()"
   ]
  },
  {
   "cell_type": "code",
   "execution_count": 26,
   "id": "f05cb84f-3a65-4b4d-a694-7397bbfbc680",
   "metadata": {},
   "outputs": [
    {
     "data": {
      "text/plain": [
       "Index(['EmployeeID', 'LastEngagementDate', 'EngagementCount',\n",
       "       'TotalEngagementMinutes'],\n",
       "      dtype='object')"
      ]
     },
     "execution_count": 26,
     "metadata": {},
     "output_type": "execute_result"
    }
   ],
   "source": [
    "rfm_df.columns"
   ]
  },
  {
   "cell_type": "code",
   "execution_count": 27,
   "id": "b87e5ba4-202e-43b7-afd3-22d4ed8bc52d",
   "metadata": {},
   "outputs": [
    {
     "data": {
      "text/plain": [
       "EmployeeID\n",
       "E0250    1056\n",
       "E0091     740\n",
       "Name: TotalEngagementMinutes, dtype: int64"
      ]
     },
     "execution_count": 27,
     "metadata": {},
     "output_type": "execute_result"
    }
   ],
   "source": [
    "rfm_df.groupby('EmployeeID')['TotalEngagementMinutes'].sum().sort_values(ascending=False).head(2)"
   ]
  },
  {
   "cell_type": "code",
   "execution_count": 28,
   "id": "0ec97ad6-0117-4fd1-a3be-a1777b7ce2c0",
   "metadata": {},
   "outputs": [
    {
     "data": {
      "text/plain": [
       "EmployeeID\n",
       "E0250    12\n",
       "E0056    10\n",
       "Name: EngagementCount, dtype: int64"
      ]
     },
     "execution_count": 28,
     "metadata": {},
     "output_type": "execute_result"
    }
   ],
   "source": [
    "rfm_df.groupby('EmployeeID')['EngagementCount'].sum().sort_values(ascending=False).head(2)"
   ]
  },
  {
   "cell_type": "code",
   "execution_count": 29,
   "id": "e8c2b941-43c5-4cba-b1b9-2c87c9aed2c7",
   "metadata": {},
   "outputs": [
    {
     "data": {
      "text/plain": [
       "12"
      ]
     },
     "execution_count": 29,
     "metadata": {},
     "output_type": "execute_result"
    }
   ],
   "source": [
    "rfm_df.groupby('EmployeeID')['EngagementCount'].sum().get('E0250')"
   ]
  },
  {
   "cell_type": "code",
   "execution_count": 30,
   "id": "30de1ab7-8fb5-4662-b2cf-c3f6ed6e80fa",
   "metadata": {},
   "outputs": [
    {
     "data": {
      "text/plain": [
       "Timestamp('2025-07-17 00:00:00')"
      ]
     },
     "execution_count": 30,
     "metadata": {},
     "output_type": "execute_result"
    }
   ],
   "source": [
    "# SET SNAPSHOT DATE\n",
    "# Choose snapshot date (usually the max date + 1 or a fixed date)\n",
    "snapshot_date = rfm_df['LastEngagementDate'].max() + pd.Timedelta(days=1)\n",
    "snapshot_date"
   ]
  },
  {
   "cell_type": "code",
   "execution_count": 31,
   "id": "1f81ed1f-39b5-4f75-90b4-03426665b0fd",
   "metadata": {},
   "outputs": [
    {
     "data": {
      "text/plain": [
       "'snapshot date is just the \"day after the last known engagement,\\nLastEngagementDate max\\t2025-07-16\\nsnapshot_date\\t2025-07-17\\nRecency for someone who last engaged on 2025-07-10\\t7 days\\n'"
      ]
     },
     "execution_count": 31,
     "metadata": {},
     "output_type": "execute_result"
    }
   ],
   "source": [
    "'''snapshot date is just the \"day after the last known engagement,\n",
    "LastEngagementDate max\t2025-07-16\n",
    "snapshot_date\t2025-07-17\n",
    "Recency for someone who last engaged on 2025-07-10\t7 days\n",
    "'''"
   ]
  },
  {
   "cell_type": "code",
   "execution_count": 32,
   "id": "b599d5da-6634-42cf-8b15-ace577ea1a5d",
   "metadata": {},
   "outputs": [],
   "source": [
    "# Calculate RFM Metrics\n",
    "rfm = rfm_df.groupby('EmployeeID').agg({\n",
    "    'LastEngagementDate': lambda x: (snapshot_date - x.max()).days,  # Recency in days\n",
    "    'EngagementCount': 'sum',                                       # Frequency\n",
    "    'TotalEngagementMinutes': 'sum'                                 # Monetary\n",
    "}).reset_index()\n"
   ]
  },
  {
   "cell_type": "code",
   "execution_count": 33,
   "id": "d416b537-59e0-4926-93b2-9ef2ceba50a6",
   "metadata": {},
   "outputs": [],
   "source": [
    "# Rename columns\n",
    "rfm.rename(columns={\n",
    "    'LastEngagementDate': 'Recency',\n",
    "    'EngagementCount': 'Frequency',\n",
    "    'TotalEngagementMinutes': 'Monetary'\n",
    "}, inplace=True)\n"
   ]
  },
  {
   "cell_type": "code",
   "execution_count": 34,
   "id": "681fd238-1e3d-46e5-91f4-46e1e2be2194",
   "metadata": {},
   "outputs": [],
   "source": [
    "rfm.to_csv(\"DEPLOYABLE.csv\", index=False)"
   ]
  },
  {
   "cell_type": "code",
   "execution_count": 35,
   "id": "c23ab8c9-c6ef-4dd4-bf37-91ad7f3eab61",
   "metadata": {},
   "outputs": [
    {
     "name": "stdout",
     "output_type": "stream",
     "text": [
      "234\n"
     ]
    }
   ],
   "source": [
    "print(rfm['Monetary'].nunique())"
   ]
  },
  {
   "cell_type": "code",
   "execution_count": 36,
   "id": "57ee4a99-b143-46fe-9479-f3c43407b4e4",
   "metadata": {},
   "outputs": [],
   "source": [
    "#Assign RFM Scores\n",
    "# Use quantiles to assign scores (1 to 4 or 1 to 5)\n",
    "rfm['R'] = pd.qcut(rfm['Recency'], 4, labels=[4, 3, 2, 1])  # Lower recency = higher score\n",
    "rfm['F'] = pd.qcut(rfm['Frequency'].rank(method='first'), 4, labels=[1, 2, 3, 4])\n",
    "rfm['M'] = pd.qcut(rfm['Monetary'], 4, labels=[1, 2, 3, 4])"
   ]
  },
  {
   "cell_type": "code",
   "execution_count": 37,
   "id": "966de41e-4031-4845-a857-863b9dec4f58",
   "metadata": {},
   "outputs": [],
   "source": [
    "#Combine Scores to Segment\n",
    "# Combine into a single RFM score\n",
    "rfm['RFM_Score'] = rfm['R'].astype(str) + rfm['F'].astype(str) + rfm['M'].astype(str)\n",
    "\n",
    "# Optional: Define segments\n",
    "def segment(rfm_score):\n",
    "    if rfm_score == '444':\n",
    "        return 'Champions'\n",
    "    elif rfm_score[0] == '4':\n",
    "        return 'Recent Engagers'\n",
    "    elif rfm_score[1] == '4':\n",
    "        return 'Frequent Engagers'\n",
    "    elif rfm_score[2] == '4':\n",
    "        return 'High Value'\n",
    "    else:\n",
    "        return 'At Risk'\n",
    "\n",
    "rfm['Segment'] = rfm['RFM_Score'].apply(segment)"
   ]
  },
  {
   "cell_type": "code",
   "execution_count": 38,
   "id": "bc03fa8e-1a0e-468a-8cdd-4837e1cff97d",
   "metadata": {},
   "outputs": [
    {
     "data": {
      "text/html": [
       "<div>\n",
       "<style scoped>\n",
       "    .dataframe tbody tr th:only-of-type {\n",
       "        vertical-align: middle;\n",
       "    }\n",
       "\n",
       "    .dataframe tbody tr th {\n",
       "        vertical-align: top;\n",
       "    }\n",
       "\n",
       "    .dataframe thead th {\n",
       "        text-align: right;\n",
       "    }\n",
       "</style>\n",
       "<table border=\"1\" class=\"dataframe\">\n",
       "  <thead>\n",
       "    <tr style=\"text-align: right;\">\n",
       "      <th></th>\n",
       "      <th>EmployeeID</th>\n",
       "      <th>Recency</th>\n",
       "      <th>Frequency</th>\n",
       "      <th>Monetary</th>\n",
       "      <th>R</th>\n",
       "      <th>F</th>\n",
       "      <th>M</th>\n",
       "      <th>RFM_Score</th>\n",
       "      <th>Segment</th>\n",
       "    </tr>\n",
       "  </thead>\n",
       "  <tbody>\n",
       "    <tr>\n",
       "      <th>0</th>\n",
       "      <td>E0001</td>\n",
       "      <td>498</td>\n",
       "      <td>5</td>\n",
       "      <td>235</td>\n",
       "      <td>3</td>\n",
       "      <td>2</td>\n",
       "      <td>2</td>\n",
       "      <td>322</td>\n",
       "      <td>At Risk</td>\n",
       "    </tr>\n",
       "    <tr>\n",
       "      <th>1</th>\n",
       "      <td>E0002</td>\n",
       "      <td>3271</td>\n",
       "      <td>4</td>\n",
       "      <td>128</td>\n",
       "      <td>1</td>\n",
       "      <td>2</td>\n",
       "      <td>1</td>\n",
       "      <td>121</td>\n",
       "      <td>At Risk</td>\n",
       "    </tr>\n",
       "    <tr>\n",
       "      <th>2</th>\n",
       "      <td>E0003</td>\n",
       "      <td>194</td>\n",
       "      <td>4</td>\n",
       "      <td>296</td>\n",
       "      <td>4</td>\n",
       "      <td>2</td>\n",
       "      <td>3</td>\n",
       "      <td>423</td>\n",
       "      <td>Recent Engagers</td>\n",
       "    </tr>\n",
       "    <tr>\n",
       "      <th>3</th>\n",
       "      <td>E0004</td>\n",
       "      <td>2621</td>\n",
       "      <td>7</td>\n",
       "      <td>329</td>\n",
       "      <td>1</td>\n",
       "      <td>4</td>\n",
       "      <td>3</td>\n",
       "      <td>143</td>\n",
       "      <td>Frequent Engagers</td>\n",
       "    </tr>\n",
       "    <tr>\n",
       "      <th>4</th>\n",
       "      <td>E0005</td>\n",
       "      <td>2730</td>\n",
       "      <td>4</td>\n",
       "      <td>324</td>\n",
       "      <td>1</td>\n",
       "      <td>2</td>\n",
       "      <td>3</td>\n",
       "      <td>123</td>\n",
       "      <td>At Risk</td>\n",
       "    </tr>\n",
       "  </tbody>\n",
       "</table>\n",
       "</div>"
      ],
      "text/plain": [
       "  EmployeeID  Recency  Frequency  Monetary  R  F  M RFM_Score  \\\n",
       "0      E0001      498          5       235  3  2  2       322   \n",
       "1      E0002     3271          4       128  1  2  1       121   \n",
       "2      E0003      194          4       296  4  2  3       423   \n",
       "3      E0004     2621          7       329  1  4  3       143   \n",
       "4      E0005     2730          4       324  1  2  3       123   \n",
       "\n",
       "             Segment  \n",
       "0            At Risk  \n",
       "1            At Risk  \n",
       "2    Recent Engagers  \n",
       "3  Frequent Engagers  \n",
       "4            At Risk  "
      ]
     },
     "metadata": {},
     "output_type": "display_data"
    }
   ],
   "source": [
    "display(rfm.head())"
   ]
  },
  {
   "cell_type": "code",
   "execution_count": 39,
   "id": "4d812288-bafd-47f2-a661-ec37610469eb",
   "metadata": {},
   "outputs": [
    {
     "data": {
      "image/png": "[encoded data removed]",
      "text/plain": [
       "<Figure size 600x400 with 1 Axes>"
      ]
     },
     "metadata": {},
     "output_type": "display_data"
    }
   ],
   "source": [
    "from sklearn.preprocessing import StandardScaler\n",
    "from sklearn.cluster import KMeans\n",
    "import matplotlib.pyplot as plt\n",
    "import seaborn as sns\n",
    "\n",
    "# Step 1: Standardize the RFM features\n",
    "scaler = StandardScaler()\n",
    "rfm_scaled = scaler.fit_transform(rfm[['Recency', 'Frequency', 'Monetary']])\n",
    "\n",
    "# Step 2: Find optimal K using Elbow Method\n",
    "sse = []\n",
    "for k in range(1, 11):\n",
    "    kmeans = KMeans(n_clusters=k, random_state=42)\n",
    "    kmeans.fit(rfm_scaled)\n",
    "    sse.append(kmeans.inertia_)\n",
    "\n",
    "# Plot the elbow curve\n",
    "plt.figure(figsize=(6,4))\n",
    "plt.plot(range(1, 11), sse, marker='o')\n",
    "plt.title('Elbow Method for Optimal K')\n",
    "plt.xlabel('Number of clusters')\n",
    "plt.ylabel('SSE')\n",
    "plt.grid(True)\n",
    "plt.show()\n"
   ]
  },
  {
   "cell_type": "code",
   "execution_count": 40,
   "id": "e70e92a4-42a3-439e-a5c0-b676ed6a2790",
   "metadata": {},
   "outputs": [],
   "source": [
    "# Fit with chosen K (say k=4)\n",
    "kmeans = KMeans(n_clusters=4, random_state=42)\n",
    "rfm['Cluster'] = kmeans.fit_predict(rfm_scaled)\n"
   ]
  },
  {
   "cell_type": "code",
   "execution_count": 41,
   "id": "3870485f-9982-4693-9c45-9273c1ac2601",
   "metadata": {},
   "outputs": [
    {
     "data": {
      "text/plain": [
       "0      3\n",
       "1      2\n",
       "2      3\n",
       "3      2\n",
       "4      2\n",
       "      ..\n",
       "482    3\n",
       "483    0\n",
       "484    1\n",
       "485    2\n",
       "486    3\n",
       "Name: Cluster, Length: 487, dtype: int32"
      ]
     },
     "execution_count": 41,
     "metadata": {},
     "output_type": "execute_result"
    }
   ],
   "source": [
    "rfm['Cluster']"
   ]
  },
  {
   "cell_type": "code",
   "execution_count": 42,
   "id": "1a096d67-6e15-4656-8b74-231219b7cab9",
   "metadata": {},
   "outputs": [
    {
     "data": {
      "image/png": "[encoded data removed]",
      "text/plain": [
       "<Figure size 800x600 with 1 Axes>"
      ]
     },
     "metadata": {},
     "output_type": "display_data"
    }
   ],
   "source": [
    "from sklearn.decomposition import PCA\n",
    "\n",
    "pca = PCA(n_components=2)\n",
    "pca_comp = pca.fit_transform(rfm_scaled)\n",
    "rfm['PCA1'] = pca_comp[:, 0]\n",
    "rfm['PCA2'] = pca_comp[:, 1]\n",
    "\n",
    "plt.figure(figsize=(8,6))\n",
    "sns.scatterplot(data=rfm, x='PCA1', y='PCA2', hue='Cluster', palette='tab10', s=100)\n",
    "plt.title(\"RFM Clusters via PCA\")\n",
    "plt.show()\n"
   ]
  },
  {
   "cell_type": "code",
   "execution_count": 43,
   "id": "8ee3514d-e225-4e7f-ab23-a6309fa0f6f7",
   "metadata": {},
   "outputs": [
    {
     "name": "stdout",
     "output_type": "stream",
     "text": [
      " saved with Cluster, PCA1, PCA2 columns.\n"
     ]
    }
   ],
   "source": [
    "# Step 4: Save this updated DataFrame\n",
    "rfm.to_csv(\"RFM_DEPLOY.csv\", index=False)\n",
    "\n",
    "print(\" saved with Cluster, PCA1, PCA2 columns.\")"
   ]
  },
  {
   "cell_type": "code",
   "execution_count": 44,
   "id": "12bbf1c2-2c5f-4a99-a692-f88c77abebb4",
   "metadata": {},
   "outputs": [
    {
     "name": "stdout",
     "output_type": "stream",
     "text": [
      "3.7.3\n"
     ]
    }
   ],
   "source": [
    "import matplotlib\n",
    "print(matplotlib.__version__)"
   ]
  },
  {
   "cell_type": "code",
   "execution_count": 45,
   "id": "5ee5f48b-0d49-47f3-97ee-2b55ce56e644",
   "metadata": {},
   "outputs": [
    {
     "name": "stdout",
     "output_type": "stream",
     "text": [
      "C:\\Users\\hp\\anaconda3\\Lib\\site-packages\\matplotlib\\__init__.py\n"
     ]
    }
   ],
   "source": [
    "import matplotlib\n",
    "print(matplotlib.__file__)\n"
   ]
  },
  {
   "cell_type": "code",
   "execution_count": null,
   "id": "99e72656-6bbb-4e86-8575-bc0cd458cf8b",
   "metadata": {},
   "outputs": [],
   "source": []
  },
  {
   "cell_type": "code",
   "execution_count": null,
   "id": "dd0d0231-6712-4fa7-a342-2168a8a32c61",
   "metadata": {},
   "outputs": [],
   "source": []
  },
  {
   "cell_type": "code",
   "execution_count": null,
   "id": "dc75c19a-8774-4fde-aea9-7a4ab729214a",
   "metadata": {},
   "outputs": [],
   "source": []
  }
 ],
 "metadata": {
  "kernelspec": {
   "display_name": "Python (myenv)",
   "language": "python",
   "name": "myenv"
  },
  "language_info": {
   "codemirror_mode": {
    "name": "ipython",
    "version": 3
   },
   "file_extension": ".py",
   "mimetype": "text/x-python",
   "name": "python",
   "nbconvert_exporter": "python",
   "pygments_lexer": "ipython3",
   "version": "3.12.3"
  }
 },
 "nbformat": 4,
 "nbformat_minor": 5
}
