{
 "cells": [
  {
   "cell_type": "code",
   "execution_count": null,
   "id": "4b476d9d-29db-45dd-970a-ab1094a10d27",
   "metadata": {},
   "outputs": [],
   "source": [
    "#a complete project flow that combines RFM Analysis, Clustering,\n",
    "# Market Basket Analysis, Regression, and Classification — all in one Customer Analytics Project."
   ]
  },
  {
   "cell_type": "code",
   "execution_count": null,
   "id": "fc19ee7a-55ef-4c8d-b48b-ff774decd2cb",
   "metadata": {},
   "outputs": [],
   "source": []
  },
  {
   "cell_type": "raw",
   "id": "094278d4-b70c-4cf4-a8e0-5674cb1fa828",
   "metadata": {},
   "source": [
    "Step\tTechnique\tPurpose\n",
    "1\tData Cleaning & Preprocessing\tHandle nulls, duplicates, date formats\n",
    "2\tRFM Analysis\tSegment customers by Recency, Frequency, Monetary\n",
    "3\tClustering (e.g., KMeans)\tCluster customers into behavior-based groups\n",
    "4\tMarket Basket Analysis (Apriori)\tFind product associations and recommend bundles\n",
    "5\tRegression\tPredict customer lifetime value (CLV) or monetary spend\n",
    "6\tClassification\tPredict churn or likelihood to buy\n",
    "7\tVisualization & Reporting\tDashboards (e.g., with Streamlit, PowerBI)"
   ]
  },
  {
   "cell_type": "code",
   "execution_count": 1,
   "id": "e7174b74-ef81-4f71-ae1c-e04bff12da92",
   "metadata": {},
   "outputs": [
    {
     "name": "stdout",
     "output_type": "stream",
     "text": [
      "RMSE: 51.85174731393942\n",
      "              precision    recall  f1-score   support\n",
      "\n",
      "           0       0.50      0.82      0.62        11\n",
      "           1       0.83      0.53      0.65        19\n",
      "\n",
      "    accuracy                           0.63        30\n",
      "   macro avg       0.67      0.67      0.63        30\n",
      "weighted avg       0.71      0.63      0.64        30\n",
      "\n"
     ]
    },
    {
     "name": "stderr",
     "output_type": "stream",
     "text": [
      "C:\\Users\\hp\\AppData\\Local\\Temp\\ipykernel_20764\\3913662565.py:34: FutureWarning: DataFrame.applymap has been deprecated. Use DataFrame.map instead.\n",
      "  basket = basket.applymap(lambda x: 1 if x > 0 else 0)\n",
      "C:\\Users\\hp\\anaconda3\\envs\\pycaret-env\\lib\\site-packages\\mlxtend\\frequent_patterns\\fpcommon.py:161: DeprecationWarning: DataFrames with non-bool types result in worse computationalperformance and their support might be discontinued in the future.Please use a DataFrame with bool type\n",
      "  warnings.warn(\n",
      "C:\\Users\\hp\\anaconda3\\envs\\pycaret-env\\lib\\site-packages\\sklearn\\metrics\\_regression.py:483: FutureWarning: 'squared' is deprecated in version 1.4 and will be removed in 1.6. To calculate the root mean squared error, use the function'root_mean_squared_error'.\n",
      "  warnings.warn(\n"
     ]
    }
   ],
   "source": [
    "import pandas as pd\n",
    "import matplotlib.pyplot as plt\n",
    "from sklearn.cluster import KMeans\n",
    "from mlxtend.frequent_patterns import apriori, association_rules\n",
    "from sklearn.linear_model import LinearRegression, LogisticRegression\n",
    "from sklearn.model_selection import train_test_split\n",
    "from sklearn.metrics import classification_report, mean_squared_error\n",
    "\n",
    "# 1. Load Data\n",
    "df = pd.read_csv(\"customer_data.csv\")  # Include: InvoiceNo, Date, Amount, Product, CustomerID\n",
    "\n",
    "# 2. Preprocess\n",
    "df.dropna(subset=[\"CustomerID\"], inplace=True)\n",
    "df[\"InvoiceDate\"] = pd.to_datetime(df[\"InvoiceDate\"])\n",
    "df[\"Total\"] = df[\"Quantity\"] * df[\"UnitPrice\"]\n",
    "\n",
    "# 3. RFM Analysis\n",
    "snapshot_date = df[\"InvoiceDate\"].max() + pd.Timedelta(days=1)\n",
    "rfm = df.groupby(\"CustomerID\").agg({\n",
    "    \"InvoiceDate\": lambda x: (snapshot_date - x.max()).days,\n",
    "    \"InvoiceNo\": \"count\",\n",
    "    \"Total\": \"sum\"\n",
    "}).rename(columns={\"InvoiceDate\": \"Recency\", \"InvoiceNo\": \"Frequency\", \"Total\": \"Monetary\"})\n",
    "\n",
    "# 4. Clustering Customers\n",
    "X = rfm[[\"Recency\", \"Frequency\", \"Monetary\"]]\n",
    "kmeans = KMeans(n_clusters=4, random_state=42)\n",
    "rfm[\"Cluster\"] = kmeans.fit_predict(X)\n",
    "\n",
    "# 5. Market Basket Analysis\n",
    "basket = (df[df['Country'] == \"Germany\"]\n",
    "         .groupby(['InvoiceNo', 'Description'])['Quantity']\n",
    "         .sum().unstack().fillna(0))\n",
    "basket = basket.applymap(lambda x: 1 if x > 0 else 0)\n",
    "\n",
    "frequent_itemsets = apriori(basket, min_support=0.02, use_colnames=True)\n",
    "rules = association_rules(frequent_itemsets, metric=\"lift\", min_threshold=1)\n",
    "\n",
    "# 6. Regression (e.g., Predict Monetary Value)\n",
    "X_reg = rfm.drop([\"Monetary\", \"Cluster\"], axis=1)\n",
    "y_reg = rfm[\"Monetary\"]\n",
    "X_train, X_test, y_train, y_test = train_test_split(X_reg, y_reg, test_size=0.3, random_state=42)\n",
    "\n",
    "lr = LinearRegression()\n",
    "lr.fit(X_train, y_train)\n",
    "y_pred = lr.predict(X_test)\n",
    "print(\"RMSE:\", mean_squared_error(y_test, y_pred, squared=False))\n",
    "\n",
    "# 7. Classification (e.g., Predict High-Value Customer)\n",
    "rfm[\"HighValue\"] = (rfm[\"Monetary\"] > rfm[\"Monetary\"].median()).astype(int)\n",
    "X_class = rfm.drop([\"Monetary\", \"Cluster\", \"HighValue\"], axis=1)\n",
    "y_class = rfm[\"HighValue\"]\n",
    "\n",
    "X_train, X_test, y_train, y_test = train_test_split(X_class, y_class, test_size=0.3, random_state=42)\n",
    "clf = LogisticRegression()\n",
    "clf.fit(X_train, y_train)\n",
    "y_pred = clf.predict(X_test)\n",
    "print(classification_report(y_test, y_pred))\n",
    "\n",
    "# Optional: Save models or visualize in Streamlit\n"
   ]
  },
  {
   "cell_type": "code",
   "execution_count": 2,
   "id": "05878f0a-87e4-428d-8eec-32b4a416a0ef",
   "metadata": {},
   "outputs": [],
   "source": [
    "# Create quantile-based bins for each metric\n",
    "rfm[\"R_Score\"] = pd.qcut(rfm[\"Recency\"], 5, labels=[5, 4, 3, 2, 1])\n",
    "rfm[\"F_Score\"] = pd.qcut(rfm[\"Frequency\"].rank(method='first'), 5, labels=[1, 2, 3, 4, 5])\n",
    "rfm[\"M_Score\"] = pd.qcut(rfm[\"Monetary\"], 5, labels=[1, 2, 3, 4, 5])\n",
    "\n",
    "# Combine RFM score into a single value\n",
    "rfm[\"RFM_Score\"] = rfm[\"R_Score\"].astype(str) + rfm[\"F_Score\"].astype(str) + rfm[\"M_Score\"].astype(str)\n"
   ]
  },
  {
   "cell_type": "code",
   "execution_count": null,
   "id": "7d5b4459-0270-4edd-a1a5-c9ffb38a8b0a",
   "metadata": {},
   "outputs": [],
   "source": [
    "# Segment the Customers Based on RFM Score"
   ]
  },
  {
   "cell_type": "code",
   "execution_count": 3,
   "id": "10c4d197-e100-44bb-9485-fd3df778860a",
   "metadata": {},
   "outputs": [],
   "source": [
    "def segment_customer(row):\n",
    "    if row[\"RFM_Score\"] == '555':\n",
    "        return \"Champion\"\n",
    "    elif row[\"R_Score\"] == '5':\n",
    "        return \"Recent\"\n",
    "    elif row[\"F_Score\"] == '5':\n",
    "        return \"Frequent\"\n",
    "    elif row[\"M_Score\"] == '5':\n",
    "        return \"Big Spender\"\n",
    "    elif row[\"RFM_Score\"].startswith('1'):\n",
    "        return \"At Risk\"\n",
    "    else:\n",
    "        return \"Others\"\n",
    "\n",
    "rfm[\"Segment\"] = rfm.apply(segment_customer, axis=1)\n"
   ]
  },
  {
   "cell_type": "code",
   "execution_count": 4,
   "id": "ce1e488f-301a-4635-bb52-b8a70f791382",
   "metadata": {},
   "outputs": [],
   "source": [
    "rfm.to_csv(\"RFM_segments.csv\")\n"
   ]
  },
  {
   "cell_type": "code",
   "execution_count": 5,
   "id": "7e30353f-fb0d-4988-a554-d48f6d74a559",
   "metadata": {},
   "outputs": [
    {
     "name": "stderr",
     "output_type": "stream",
     "text": [
      "C:\\Users\\hp\\anaconda3\\envs\\pycaret-env\\lib\\site-packages\\IPython\\core\\pylabtools.py:77: DeprecationWarning: backend2gui is deprecated since IPython 8.24, backends are managed in matplotlib and can be externally registered.\n",
      "  warnings.warn(\n",
      "C:\\Users\\hp\\anaconda3\\envs\\pycaret-env\\lib\\site-packages\\IPython\\core\\pylabtools.py:77: DeprecationWarning: backend2gui is deprecated since IPython 8.24, backends are managed in matplotlib and can be externally registered.\n",
      "  warnings.warn(\n",
      "C:\\Users\\hp\\anaconda3\\envs\\pycaret-env\\lib\\site-packages\\IPython\\core\\pylabtools.py:77: DeprecationWarning: backend2gui is deprecated since IPython 8.24, backends are managed in matplotlib and can be externally registered.\n",
      "  warnings.warn(\n"
     ]
    },
    {
     "data": {
      "image/png": "[encoded data removed]",
      "text/plain": [
       "<Figure size 1000x600 with 1 Axes>"
      ]
     },
     "metadata": {},
     "output_type": "display_data"
    }
   ],
   "source": [
    "import seaborn as sns\n",
    "import matplotlib.pyplot as plt\n",
    "\n",
    "plt.figure(figsize=(10,6))\n",
    "sns.countplot(data=rfm, x=\"Segment\", order=rfm[\"Segment\"].value_counts().index)\n",
    "plt.title(\"Customer Segments by RFM Score\")\n",
    "plt.xticks(rotation=45)\n",
    "plt.tight_layout()\n",
    "plt.show()\n"
   ]
  },
  {
   "cell_type": "code",
   "execution_count": 6,
   "id": "d5147e7b-6df1-4886-b006-c2c94688dcaa",
   "metadata": {},
   "outputs": [
    {
     "data": {
      "text/html": [
       "<div>\n",
       "<style scoped>\n",
       "    .dataframe tbody tr th:only-of-type {\n",
       "        vertical-align: middle;\n",
       "    }\n",
       "\n",
       "    .dataframe tbody tr th {\n",
       "        vertical-align: top;\n",
       "    }\n",
       "\n",
       "    .dataframe thead th {\n",
       "        text-align: right;\n",
       "    }\n",
       "</style>\n",
       "<table border=\"1\" class=\"dataframe\">\n",
       "  <thead>\n",
       "    <tr style=\"text-align: right;\">\n",
       "      <th></th>\n",
       "      <th>Recency</th>\n",
       "      <th>Frequency</th>\n",
       "      <th>Monetary</th>\n",
       "      <th>Cluster</th>\n",
       "      <th>HighValue</th>\n",
       "      <th>R_Score</th>\n",
       "      <th>F_Score</th>\n",
       "      <th>M_Score</th>\n",
       "      <th>RFM_Score</th>\n",
       "      <th>Segment</th>\n",
       "    </tr>\n",
       "    <tr>\n",
       "      <th>CustomerID</th>\n",
       "      <th></th>\n",
       "      <th></th>\n",
       "      <th></th>\n",
       "      <th></th>\n",
       "      <th></th>\n",
       "      <th></th>\n",
       "      <th></th>\n",
       "      <th></th>\n",
       "      <th></th>\n",
       "      <th></th>\n",
       "    </tr>\n",
       "  </thead>\n",
       "  <tbody>\n",
       "    <tr>\n",
       "      <th>10000</th>\n",
       "      <td>4</td>\n",
       "      <td>9</td>\n",
       "      <td>299.09</td>\n",
       "      <td>1</td>\n",
       "      <td>1</td>\n",
       "      <td>5</td>\n",
       "      <td>5</td>\n",
       "      <td>5</td>\n",
       "      <td>555</td>\n",
       "      <td>Champion</td>\n",
       "    </tr>\n",
       "    <tr>\n",
       "      <th>10001</th>\n",
       "      <td>74</td>\n",
       "      <td>10</td>\n",
       "      <td>234.70</td>\n",
       "      <td>1</td>\n",
       "      <td>1</td>\n",
       "      <td>3</td>\n",
       "      <td>5</td>\n",
       "      <td>5</td>\n",
       "      <td>355</td>\n",
       "      <td>Others</td>\n",
       "    </tr>\n",
       "    <tr>\n",
       "      <th>10002</th>\n",
       "      <td>10</td>\n",
       "      <td>7</td>\n",
       "      <td>273.40</td>\n",
       "      <td>1</td>\n",
       "      <td>1</td>\n",
       "      <td>5</td>\n",
       "      <td>4</td>\n",
       "      <td>5</td>\n",
       "      <td>545</td>\n",
       "      <td>Others</td>\n",
       "    </tr>\n",
       "    <tr>\n",
       "      <th>10003</th>\n",
       "      <td>128</td>\n",
       "      <td>5</td>\n",
       "      <td>169.71</td>\n",
       "      <td>3</td>\n",
       "      <td>1</td>\n",
       "      <td>2</td>\n",
       "      <td>3</td>\n",
       "      <td>4</td>\n",
       "      <td>234</td>\n",
       "      <td>Others</td>\n",
       "    </tr>\n",
       "    <tr>\n",
       "      <th>10004</th>\n",
       "      <td>41</td>\n",
       "      <td>3</td>\n",
       "      <td>94.56</td>\n",
       "      <td>0</td>\n",
       "      <td>0</td>\n",
       "      <td>3</td>\n",
       "      <td>1</td>\n",
       "      <td>2</td>\n",
       "      <td>312</td>\n",
       "      <td>Others</td>\n",
       "    </tr>\n",
       "  </tbody>\n",
       "</table>\n",
       "</div>"
      ],
      "text/plain": [
       "            Recency  Frequency  Monetary  Cluster  HighValue R_Score F_Score  \\\n",
       "CustomerID                                                                     \n",
       "10000             4          9    299.09        1          1       5       5   \n",
       "10001            74         10    234.70        1          1       3       5   \n",
       "10002            10          7    273.40        1          1       5       4   \n",
       "10003           128          5    169.71        3          1       2       3   \n",
       "10004            41          3     94.56        0          0       3       1   \n",
       "\n",
       "           M_Score RFM_Score   Segment  \n",
       "CustomerID                              \n",
       "10000            5       555  Champion  \n",
       "10001            5       355    Others  \n",
       "10002            5       545    Others  \n",
       "10003            4       234    Others  \n",
       "10004            2       312    Others  "
      ]
     },
     "execution_count": 6,
     "metadata": {},
     "output_type": "execute_result"
    }
   ],
   "source": [
    "rfm.head()"
   ]
  },
  {
   "cell_type": "raw",
   "id": "b96dc461-9bc1-49aa-87a2-1ea3970ac5f4",
   "metadata": {},
   "source": [
    "Champions (555): Loyal, high-spending, recent buyers → Reward & retain them.\n",
    "Frequent Buyers: Buy often → Upsell or cross-sell.\n",
    "\n",
    "Big Spenders: Spend a lot → Offer premium products.\n",
    "\n",
    "At-Risk (1xx): Haven’t purchased in a while → Send reactivation offers.\n",
    "\n",
    "New Customers: Recent buyers → Nurture with welcome campaigns.\n",
    "\n",
    "Low-Value: Low across RFM → Use low-cost or automated campaigns."
   ]
  }
 ],
 "metadata": {
  "kernelspec": {
   "display_name": "Python (PyCaret)",
   "language": "python",
   "name": "pycaret-env"
  },
  "language_info": {
   "codemirror_mode": {
    "name": "ipython",
    "version": 3
   },
   "file_extension": ".py",
   "mimetype": "text/x-python",
   "name": "python",
   "nbconvert_exporter": "python",
   "pygments_lexer": "ipython3",
   "version": "3.10.18"
  }
 },
 "nbformat": 4,
 "nbformat_minor": 5
}
